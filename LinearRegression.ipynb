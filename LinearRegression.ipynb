{
  "nbformat": 4,
  "nbformat_minor": 0,
  "metadata": {
    "colab": {
      "name": "LinearRegression.ipynb",
      "provenance": [],
      "collapsed_sections": []
    },
    "kernelspec": {
      "name": "python3",
      "display_name": "Python 3"
    },
    "language_info": {
      "name": "python"
    }
  },
  "cells": [
    {
      "cell_type": "markdown",
      "source": [
        "#Linear Regression from scratch in Python<br>"
      ],
      "metadata": {
        "id": "kn4ud-OgX4HG"
      }
    },
    {
      "cell_type": "markdown",
      "source": [
        "In this notebook we have implemented a Least Squares solution (finding solution by minimizing sum of squared distances of the points from the halfspace). We have implemented three methods to arrive at the solution that minimize the cost function."
      ],
      "metadata": {
        "id": "XjjlX6lDYQ8x"
      }
    },
    {
      "cell_type": "code",
      "execution_count": 1,
      "metadata": {
        "id": "QDtcvI-mTbu0"
      },
      "outputs": [],
      "source": [
        "import pandas as pd \n",
        "import numpy as np\n",
        "from random import seed\n",
        "from random import randint \n",
        "import random\n",
        "import matplotlib.pyplot as plt\n",
        "import seaborn as sns\n",
        "from sklearn.model_selection import train_test_split"
      ]
    },
    {
      "cell_type": "markdown",
      "source": [
        "Firstly we generate a dataset to work on. Let us take an equation for instance of the form $ax + b = y$ and generate data accordingly. Although it would only be fair for us to add some kind of noise. \n",
        "<br>\n",
        "So the equation we are considering for this notebook is $2x + 3 = y$"
      ],
      "metadata": {
        "id": "2SQFqsfEbYFt"
      }
    },
    {
      "cell_type": "code",
      "source": [
        "a = 2\n",
        "b = 3 \n",
        "# ax + b = y\n",
        "n = 100"
      ],
      "metadata": {
        "id": "q_CDHhQNVAB_"
      },
      "execution_count": 2,
      "outputs": []
    },
    {
      "cell_type": "code",
      "source": [
        "data = []\n",
        "for i in range(n):\n",
        "  row = []\n",
        "  x = randint(0,20)\n",
        "  delta = random.uniform(0, 1)\n",
        "  x+=delta\n",
        "  y = a*x + b\n",
        "  delta = random.uniform(0, 2)\n",
        "  y = y+delta\n",
        "  row.append(x)\n",
        "  row.append(y)\n",
        "  data.append(row)\n",
        "# print(data[:-1],data[0:]"
      ],
      "metadata": {
        "id": "cdTDHvWwVYuF"
      },
      "execution_count": 3,
      "outputs": []
    },
    {
      "cell_type": "code",
      "source": [
        "df = pd.DataFrame(data)\n",
        "X = df[0]\n",
        "Y = df[1]"
      ],
      "metadata": {
        "id": "JI6U8S_fWwm6"
      },
      "execution_count": 4,
      "outputs": []
    },
    {
      "cell_type": "code",
      "source": [
        "df.head()"
      ],
      "metadata": {
        "colab": {
          "base_uri": "https://localhost:8080/",
          "height": 206
        },
        "id": "ZKAWoqCfIk8L",
        "outputId": "8b3a6602-b9bb-49fc-b413-defaf7ac164c"
      },
      "execution_count": 5,
      "outputs": [
        {
          "output_type": "execute_result",
          "data": {
            "text/html": [
              "\n",
              "  <div id=\"df-b7a43d33-e5cd-460e-900f-067dac96ff40\">\n",
              "    <div class=\"colab-df-container\">\n",
              "      <div>\n",
              "<style scoped>\n",
              "    .dataframe tbody tr th:only-of-type {\n",
              "        vertical-align: middle;\n",
              "    }\n",
              "\n",
              "    .dataframe tbody tr th {\n",
              "        vertical-align: top;\n",
              "    }\n",
              "\n",
              "    .dataframe thead th {\n",
              "        text-align: right;\n",
              "    }\n",
              "</style>\n",
              "<table border=\"1\" class=\"dataframe\">\n",
              "  <thead>\n",
              "    <tr style=\"text-align: right;\">\n",
              "      <th></th>\n",
              "      <th>0</th>\n",
              "      <th>1</th>\n",
              "    </tr>\n",
              "  </thead>\n",
              "  <tbody>\n",
              "    <tr>\n",
              "      <th>0</th>\n",
              "      <td>20.022905</td>\n",
              "      <td>43.481886</td>\n",
              "    </tr>\n",
              "    <tr>\n",
              "      <th>1</th>\n",
              "      <td>4.650902</td>\n",
              "      <td>13.881018</td>\n",
              "    </tr>\n",
              "    <tr>\n",
              "      <th>2</th>\n",
              "      <td>11.201739</td>\n",
              "      <td>27.048767</td>\n",
              "    </tr>\n",
              "    <tr>\n",
              "      <th>3</th>\n",
              "      <td>1.735265</td>\n",
              "      <td>7.831861</td>\n",
              "    </tr>\n",
              "    <tr>\n",
              "      <th>4</th>\n",
              "      <td>1.470437</td>\n",
              "      <td>7.324327</td>\n",
              "    </tr>\n",
              "  </tbody>\n",
              "</table>\n",
              "</div>\n",
              "      <button class=\"colab-df-convert\" onclick=\"convertToInteractive('df-b7a43d33-e5cd-460e-900f-067dac96ff40')\"\n",
              "              title=\"Convert this dataframe to an interactive table.\"\n",
              "              style=\"display:none;\">\n",
              "        \n",
              "  <svg xmlns=\"http://www.w3.org/2000/svg\" height=\"24px\"viewBox=\"0 0 24 24\"\n",
              "       width=\"24px\">\n",
              "    <path d=\"M0 0h24v24H0V0z\" fill=\"none\"/>\n",
              "    <path d=\"M18.56 5.44l.94 2.06.94-2.06 2.06-.94-2.06-.94-.94-2.06-.94 2.06-2.06.94zm-11 1L8.5 8.5l.94-2.06 2.06-.94-2.06-.94L8.5 2.5l-.94 2.06-2.06.94zm10 10l.94 2.06.94-2.06 2.06-.94-2.06-.94-.94-2.06-.94 2.06-2.06.94z\"/><path d=\"M17.41 7.96l-1.37-1.37c-.4-.4-.92-.59-1.43-.59-.52 0-1.04.2-1.43.59L10.3 9.45l-7.72 7.72c-.78.78-.78 2.05 0 2.83L4 21.41c.39.39.9.59 1.41.59.51 0 1.02-.2 1.41-.59l7.78-7.78 2.81-2.81c.8-.78.8-2.07 0-2.86zM5.41 20L4 18.59l7.72-7.72 1.47 1.35L5.41 20z\"/>\n",
              "  </svg>\n",
              "      </button>\n",
              "      \n",
              "  <style>\n",
              "    .colab-df-container {\n",
              "      display:flex;\n",
              "      flex-wrap:wrap;\n",
              "      gap: 12px;\n",
              "    }\n",
              "\n",
              "    .colab-df-convert {\n",
              "      background-color: #E8F0FE;\n",
              "      border: none;\n",
              "      border-radius: 50%;\n",
              "      cursor: pointer;\n",
              "      display: none;\n",
              "      fill: #1967D2;\n",
              "      height: 32px;\n",
              "      padding: 0 0 0 0;\n",
              "      width: 32px;\n",
              "    }\n",
              "\n",
              "    .colab-df-convert:hover {\n",
              "      background-color: #E2EBFA;\n",
              "      box-shadow: 0px 1px 2px rgba(60, 64, 67, 0.3), 0px 1px 3px 1px rgba(60, 64, 67, 0.15);\n",
              "      fill: #174EA6;\n",
              "    }\n",
              "\n",
              "    [theme=dark] .colab-df-convert {\n",
              "      background-color: #3B4455;\n",
              "      fill: #D2E3FC;\n",
              "    }\n",
              "\n",
              "    [theme=dark] .colab-df-convert:hover {\n",
              "      background-color: #434B5C;\n",
              "      box-shadow: 0px 1px 3px 1px rgba(0, 0, 0, 0.15);\n",
              "      filter: drop-shadow(0px 1px 2px rgba(0, 0, 0, 0.3));\n",
              "      fill: #FFFFFF;\n",
              "    }\n",
              "  </style>\n",
              "\n",
              "      <script>\n",
              "        const buttonEl =\n",
              "          document.querySelector('#df-b7a43d33-e5cd-460e-900f-067dac96ff40 button.colab-df-convert');\n",
              "        buttonEl.style.display =\n",
              "          google.colab.kernel.accessAllowed ? 'block' : 'none';\n",
              "\n",
              "        async function convertToInteractive(key) {\n",
              "          const element = document.querySelector('#df-b7a43d33-e5cd-460e-900f-067dac96ff40');\n",
              "          const dataTable =\n",
              "            await google.colab.kernel.invokeFunction('convertToInteractive',\n",
              "                                                     [key], {});\n",
              "          if (!dataTable) return;\n",
              "\n",
              "          const docLinkHtml = 'Like what you see? Visit the ' +\n",
              "            '<a target=\"_blank\" href=https://colab.research.google.com/notebooks/data_table.ipynb>data table notebook</a>'\n",
              "            + ' to learn more about interactive tables.';\n",
              "          element.innerHTML = '';\n",
              "          dataTable['output_type'] = 'display_data';\n",
              "          await google.colab.output.renderOutput(dataTable, element);\n",
              "          const docLink = document.createElement('div');\n",
              "          docLink.innerHTML = docLinkHtml;\n",
              "          element.appendChild(docLink);\n",
              "        }\n",
              "      </script>\n",
              "    </div>\n",
              "  </div>\n",
              "  "
            ],
            "text/plain": [
              "           0          1\n",
              "0  20.022905  43.481886\n",
              "1   4.650902  13.881018\n",
              "2  11.201739  27.048767\n",
              "3   1.735265   7.831861\n",
              "4   1.470437   7.324327"
            ]
          },
          "metadata": {},
          "execution_count": 5
        }
      ]
    },
    {
      "cell_type": "markdown",
      "source": [
        "Frist;y we shall split our dataset into traina and test sets."
      ],
      "metadata": {
        "id": "AZLrD0G3Aukh"
      }
    },
    {
      "cell_type": "code",
      "source": [
        "indices = np.arange(len(X))\n",
        "X_train, X_test, y_train, y_test, indices_train, indices_test = train_test_split(X, Y, indices, test_size=0.20, random_state=42)"
      ],
      "metadata": {
        "id": "iSp9AVqEAuCb"
      },
      "execution_count": 6,
      "outputs": []
    },
    {
      "cell_type": "markdown",
      "source": [
        "Now before we go on to the next steps, let us briefly visualize our data points."
      ],
      "metadata": {
        "id": "mVvklT78dzRo"
      }
    },
    {
      "cell_type": "code",
      "source": [
        "sns.jointplot(x=X_train, y = y_train)"
      ],
      "metadata": {
        "colab": {
          "base_uri": "https://localhost:8080/",
          "height": 458
        },
        "id": "E_cb45DkYcgY",
        "outputId": "126a23c7-3b2a-4a29-e6d1-ec328f1cb7d5"
      },
      "execution_count": 7,
      "outputs": [
        {
          "output_type": "execute_result",
          "data": {
            "text/plain": [
              "<seaborn.axisgrid.JointGrid at 0x7f0fa989f450>"
            ]
          },
          "metadata": {},
          "execution_count": 7
        },
        {
          "output_type": "display_data",
          "data": {
            "image/png": "[encoded data removed]",
            "text/plain": [
              "<Figure size 432x432 with 3 Axes>"
            ]
          },
          "metadata": {
            "needs_background": "light"
          }
        }
      ]
    },
    {
      "cell_type": "markdown",
      "source": [
        "Since we are attempting to solve the problem using the least sqaures solution, our cost function is going to be as follow: $$ f(a,b) = \\sum_{i = 1}^{n}(ax_i + b - y_i)^2 $$<br>\n",
        "$$\\implies f(a,b) = \\sum_{i = 1}^{n}(y^{\\prime}_{i} - y_i)^2$$<br>\n",
        "where, $y^{\\prime}_{i} = ax_i + b$"
      ],
      "metadata": {
        "id": "4ei2eq3Cd9G8"
      }
    },
    {
      "cell_type": "code",
      "source": [
        "def computecost(Xt, Yt, ind, ac, bc):\n",
        "  # m = len(Xt)\n",
        "  sum = 0\n",
        "  for i in ind:\n",
        "    sum+= ac*Xt[i] + bc - Yt[i]\n",
        "  c = sum*sum\n",
        "  return c"
      ],
      "metadata": {
        "id": "_uTvCSX6OpvN"
      },
      "execution_count": 9,
      "outputs": []
    },
    {
      "cell_type": "markdown",
      "source": [
        "#Gradient Descent\n",
        " We now go into our gradient descent loop where we calculate new values for a,b and also keep track of its cost using the computeCost function that we defined earlier. <br><br>\n",
        " Repeat until convergence or max_iter{\n",
        "1.   Calculate gradients at $a_{i-1}, b_{i-1}$\n",
        "2.   Update $a_i, b_i$\n",
        "3.   Compute cost for these new values and keep track of this cost as we go\n",
        "\n",
        " }\n",
        "\n",
        " <br><br>\n",
        " Gradient is calculated as follows: \n",
        " $$\\frac{\\partial f(a,b)}{\\partial a} = 2\\sum_{i=1}^n x_i(ax_i + b - y_i)$$ <br>\n",
        " $$\\frac{\\partial f(a,b)}{\\partial b} = 2\\sum_{i=1}^n(ax_i + b - y_i)$$<br>\n",
        " $$ \\nabla(f(a,b)) = (\\frac{\\partial f(a,b)}{\\partial a}, \\frac{\\partial f(a,b)}{\\partial b} )$$<br>\n",
        " $$\\implies\\nabla(f(a,b)) = (2\\sum_{i=1}^n x_i(ax_i + b - y_i), 2\\sum_{i=1}^n(ax_i + b - y_i)) $$\n",
        "  <br><br>\n",
        "After computing gradient, we update our values as follows: \n",
        "$$a_{i+1} = a_i - \\eta\\frac{(\\frac{\\partial f(a,b)}{\\partial a})_{(a_i, b_i)}}{||\\nabla f(a,b)||_2}$$<br>\n",
        "$$b_{i+1} = b_i - \\eta\\frac{(\\frac{\\partial f(a,b)}{\\partial b})_{(a_i, b_i)}}{||\\nabla f(a,b)||_2}$$<br>\n",
        "where $\\eta$ is the learning rate\n",
        "<br><br>\n",
        "$$MSE = \\frac{1}{n}\\sum_{i=1}^{n}(y^{\\prime}_{i} - y_i)^2$$"
      ],
      "metadata": {
        "id": "kMGNJALtZ1FR"
      }
    },
    {
      "cell_type": "markdown",
      "source": [
        "###Approach 1 : have a certain number of iterations before the process comes to an end"
      ],
      "metadata": {
        "id": "nd9MuX-mtiLG"
      }
    },
    {
      "cell_type": "code",
      "source": [
        "epochs = 1000\n",
        "agd,bgd = 0,0\n",
        "# eta = 0.01\n",
        "eta = [0.1,0.05,0.02, 0.01, 0.001]\n",
        "norm = 0\n",
        "J_history_gd = []"
      ],
      "metadata": {
        "id": "rU8pOKumJUx-"
      },
      "execution_count": 10,
      "outputs": []
    },
    {
      "cell_type": "code",
      "source": [
        "def gradient_descent(Xt, Yt, ap, bp,lr, epochs):\n",
        "  his = []\n",
        "  for i in range(epochs):\n",
        "    h = computecost(Xt, Yt, indices_train, ap, bp)\n",
        "  # print(h)\n",
        "    his.append(h) \n",
        "    slopesum = 0\n",
        "    biassum = 0 \n",
        "    for i in indices_train:\n",
        "      slopesum += Xt[i]*(ap*Xt[i] + bp - Yt[i])\n",
        "      biassum +=(ap*Xt[i]+bp - Yt[i])\n",
        "    norm = np.sqrt(slopesum*slopesum + biassum*biassum)\n",
        "    slopesum = slopesum/norm\n",
        "    biassum = biassum/norm\n",
        "    ap = ap - lr*2*(slopesum)\n",
        "    bp = bp - lr*2*(biassum)\n",
        "  return ap, bp, his "
      ],
      "metadata": {
        "id": "8r0GCH5LK4z5"
      },
      "execution_count": 11,
      "outputs": []
    },
    {
      "cell_type": "markdown",
      "source": [
        "Analysing gradient descent with respect to different learn rates by plotting the cost histories."
      ],
      "metadata": {
        "id": "ZjJxbpqtZ7pW"
      }
    },
    {
      "cell_type": "code",
      "source": [
        "for i in range(len(eta)):\n",
        "  ai, bi, hi = 0, 0 ,0\n",
        "  ai, bi, hi = gradient_descent(X, Y, agd, bgd, eta[i], epochs)\n",
        "  plt.plot(np.arange(epochs), hi, LineWidth=2)\n",
        "  plt.title(\"lr: {}\".format(eta[i]))\n",
        "  plt.xlabel('Number_of_iterations’')\n",
        "  plt.ylabel('Cost_J')\n",
        "  plt.show()\n",
        "  ci = 0\n",
        "  ci = computecost(X,Y, indices_test, ai, bi)\n",
        "  print(\"Error on test set:{}, a: {}, b: {}\".format(ci,ai, bi))"
      ],
      "metadata": {
        "id": "OgZHaUf2MqkB",
        "colab": {
          "base_uri": "https://localhost:8080/",
          "height": 1000
        },
        "outputId": "5aa454d9-311b-40fb-b20b-310509e9dc6f"
      },
      "execution_count": 12,
      "outputs": [
        {
          "output_type": "display_data",
          "data": {
            "image/png": "[encoded data removed]",
            "text/plain": [
              "<Figure size 432x288 with 1 Axes>"
            ]
          },
          "metadata": {
            "needs_background": "light"
          }
        },
        {
          "output_type": "stream",
          "name": "stdout",
          "text": [
            "Error on test set:251.7003659772871, a: 2.1105470539305466, b: 3.7942824488065745\n"
          ]
        },
        {
          "output_type": "display_data",
          "data": {
            "image/png": "[encoded data removed]",
            "text/plain": [
              "<Figure size 432x288 with 1 Axes>"
            ]
          },
          "metadata": {
            "needs_background": "light"
          }
        },
        {
          "output_type": "stream",
          "name": "stdout",
          "text": [
            "Error on test set:238.17452108079632, a: 1.9601525129025779, b: 3.7813858345143716\n"
          ]
        },
        {
          "output_type": "display_data",
          "data": {
            "image/png": "[encoded data removed]",
            "text/plain": [
              "<Figure size 432x288 with 1 Axes>"
            ]
          },
          "metadata": {
            "needs_background": "light"
          }
        },
        {
          "output_type": "stream",
          "name": "stdout",
          "text": [
            "Error on test set:0.919308332654998, a: 2.0305505539485846, b: 3.7786155904373864\n"
          ]
        },
        {
          "output_type": "display_data",
          "data": {
            "image/png": "[encoded data removed]",
            "text/plain": [
              "<Figure size 432x288 with 1 Axes>"
            ]
          },
          "metadata": {
            "needs_background": "light"
          }
        },
        {
          "output_type": "stream",
          "name": "stdout",
          "text": [
            "Error on test set:52.3949138434672, a: 2.0017831745511487, b: 3.76150024007119\n"
          ]
        },
        {
          "output_type": "display_data",
          "data": {
            "image/png": "[encoded data removed]",
            "text/plain": [
              "<Figure size 432x288 with 1 Axes>"
            ]
          },
          "metadata": {
            "needs_background": "light"
          }
        },
        {
          "output_type": "stream",
          "name": "stdout",
          "text": [
            "Error on test set:6550.433046659355, a: 1.9926794038321058, b: 0.17063130899824994\n"
          ]
        }
      ]
    },
    {
      "cell_type": "code",
      "source": [
        "# for i in range(epochs):\n",
        "#   h = computecost(X, Y, ap, bp)\n",
        "#   # print(h)\n",
        "#   J_history.append(h)\n",
        "#   slopesum = 0\n",
        "#   biassum = 0 \n",
        "#   for i in range(len(X)):\n",
        "#     slopesum += X[i]*(ap*X[i] + bp - Y[i])\n",
        "#     biassum +=(ap*X[i]+bp - Y[i])\n",
        "#   norm = np.sqrt(slopesum*slopesum + biassum*biassum)\n",
        "#   slopesum = slopesum/norm\n",
        "#   biassum = biassum/norm\n",
        "#   ap = ap - eta*2*(slopesum)\n",
        "#   bp = bp - eta*2*(biassum)\n",
        "#   # print(ap,bp)"
      ],
      "metadata": {
        "id": "A6LrS1qqy4oL"
      },
      "execution_count": 13,
      "outputs": []
    },
    {
      "cell_type": "markdown",
      "source": [
        "### Approach 2 : compare the results from the previous iteration to check for convergence"
      ],
      "metadata": {
        "id": "EekId_gTtsw9"
      }
    },
    {
      "cell_type": "code",
      "source": [
        "delta = 0.01\n",
        "lr = 0.01\n",
        "ap_history = []\n",
        "bp_history = []\n",
        "ap, bp = 0,0\n",
        "J_history = []"
      ],
      "metadata": {
        "id": "5gduIfJvq9Ay"
      },
      "execution_count": 48,
      "outputs": []
    },
    {
      "cell_type": "code",
      "source": [
        "ap_history.append(ap)\n",
        "bp_history.append(bp)\n",
        "h = computecost(X, Y,indices_train, ap, bp)\n",
        "J_history.append(h)\n",
        "for j in range(1000):\n",
        "  slopesum = 0\n",
        "  biassum = 0 \n",
        "  for i in range(len(X)):\n",
        "    slopesum += X[i]*(ap*X[i] + bp - Y[i])\n",
        "    biassum +=(ap*X[i]+bp - Y[i])\n",
        "  norm = np.sqrt(slopesum*slopesum + biassum*biassum)\n",
        "  slopesum = slopesum/norm\n",
        "  biassum = biassum/norm\n",
        "  ap = ap - lr*2*(slopesum)\n",
        "  bp = bp - lr*2*(biassum)\n",
        "  h = computecost(X, Y, indices_train,ap, bp)\n",
        "  if (ap_history[-1]-delta <= ap <= ap_history[-1]+delta) and (bp_history[-1]-delta <= bp <= bp_history[-1]+delta):\n",
        "    break\n",
        "  J_history.append(h)\n",
        "  ap_history.append(ap)\n",
        "  bp_history.append(bp)\n",
        "print(ap,bp,j)"
      ],
      "metadata": {
        "id": "vYUkqX1IuFdV",
        "colab": {
          "base_uri": "https://localhost:8080/"
        },
        "outputId": "506f5424-16dd-42f2-af6b-dd8f8f2bf194"
      },
      "execution_count": 52,
      "outputs": [
        {
          "output_type": "stream",
          "name": "stdout",
          "text": [
            "2.0205680590615334 3.54537234065976 999\n"
          ]
        }
      ]
    },
    {
      "cell_type": "code",
      "source": [
        "c = computecost(X, Y, indices_test, ap_history[-1], bp_history[-1])\n",
        "print(\"Error on test set: {}, a: {}, b:{}\".format(c,ap_history[-1], bp_history[-1]))"
      ],
      "metadata": {
        "id": "BvIYdzYzzgKy",
        "colab": {
          "base_uri": "https://localhost:8080/"
        },
        "outputId": "b30e9240-8868-4cec-9b91-798139e6b119"
      },
      "execution_count": 55,
      "outputs": [
        {
          "output_type": "stream",
          "name": "stdout",
          "text": [
            "Error on test set: 3.1837723796395854, a: 2.0205680590615334, b:3.54537234065976\n"
          ]
        }
      ]
    },
    {
      "cell_type": "markdown",
      "source": [
        "#Stochastic Gradient Descent\n"
      ],
      "metadata": {
        "id": "BIYWn9TsejXf"
      }
    },
    {
      "cell_type": "code",
      "source": [
        "asgd, bsgd = 0,0\n",
        "lr = 0.015\n",
        "divideby = 1"
      ],
      "metadata": {
        "id": "9hWyWfmofZmJ"
      },
      "execution_count": 58,
      "outputs": []
    },
    {
      "cell_type": "code",
      "source": [
        "def sgd(X, Y, ind, n, k, asgd, bsgd,lr):\n",
        "  curr = 0\n",
        "  while curr<n:\n",
        "    ind = random.sample(ind,k)\n",
        "    slopesum = 0\n",
        "    biassum = 0\n",
        "    for i in range(k):\n",
        "      slopesum += X[i]*(asgd*X[i] + bsgd - Y[i])\n",
        "      biassum +=(asgd*X[i]+bsgd - Y[i])\n",
        "    norm = np.sqrt(slopesum*slopesum + biassum*biassum)\n",
        "    slopesum = slopesum/norm\n",
        "    biassum = biassum/norm\n",
        "    asgd = asgd - lr*2*(slopesum)\n",
        "    bsgd = bsgd - lr*2*(biassum)\n",
        "    curr+=1\n",
        "  return asgd, bsgd"
      ],
      "metadata": {
        "id": "nMb393s4e7VC"
      },
      "execution_count": 69,
      "outputs": []
    },
    {
      "cell_type": "code",
      "source": [
        "i = set(indices_train)\n",
        "asg, bsg = sgd(X, Y, i, 1000, 10, asgd,bsgd,lr) \n",
        "c = computecost(X, Y, indices_test, asg, bsg)\n",
        "print(\"Error on test set :{}, a:{}, b:{}\".format(c,asg,bsg))"
      ],
      "metadata": {
        "colab": {
          "base_uri": "https://localhost:8080/"
        },
        "id": "ZHTZWPnwira0",
        "outputId": "55d76e28-689b-4a5c-d616-a6f9e2aabdfb"
      },
      "execution_count": 70,
      "outputs": [
        {
          "output_type": "stream",
          "name": "stdout",
          "text": [
            "Error on test set :0.026100831913507132, a:1.9987187741553896, b:4.163122963018664\n"
          ]
        }
      ]
    },
    {
      "cell_type": "markdown",
      "source": [
        "#Analytical Method\n",
        "This method is on the lines of a natural solution. We have, in this case, two variables. We also have two partial derivative equations $\\frac{\\partial f(a,b)}{\\partial a}$ and $\\frac{\\partial f(a,b)}{\\partial b}$. Equating both these equations to zero and solving for a and b we will arrive at the following: <br><br>\n",
        "$$a = \\frac{(\\sum y)(\\sum x^2)- (\\sum x)(\\sum xy) }{n(\\sum x^2) - (\\sum x)^2}$$<br>\n",
        "$$b = \\frac{n(\\sum xy)- (\\sum x)(\\sum y) }{n(\\sum x^2) - (\\sum x)^2}$$"
      ],
      "metadata": {
        "id": "3lVjc_PCa7hs"
      }
    },
    {
      "cell_type": "code",
      "source": [
        "meanx = np.mean(X)\n",
        "meany = np.mean(Y)\n",
        "n, d = 0,0 \n",
        "for i in range(len(X)):\n",
        "  n+= (X[i] -meanx)*(Y[i]-meany)\n",
        "  d += pow((X[i] -meanx), 2)\n",
        "aam = n/d\n",
        "bam = meany - meanx*aam\n",
        "print(aam,bam)"
      ],
      "metadata": {
        "id": "cUes7r7RbCSe",
        "colab": {
          "base_uri": "https://localhost:8080/"
        },
        "outputId": "aa4daa5e-aefb-4495-e263-a4722f4a00f5"
      },
      "execution_count": 56,
      "outputs": [
        {
          "output_type": "stream",
          "name": "stdout",
          "text": [
            "2.00917716273673 3.8466353148077417\n"
          ]
        }
      ]
    },
    {
      "cell_type": "code",
      "source": [
        "c = computecost(X, Y, indices_test, aam, bam)\n",
        "print(\"Error on test set: {}, a: {}, b:{}\".format(c,aam, bam))"
      ],
      "metadata": {
        "colab": {
          "base_uri": "https://localhost:8080/"
        },
        "id": "nXYXilH2Q53u",
        "outputId": "4604b7cb-8663-4e0b-c66b-a6cfcc4ecb38"
      },
      "execution_count": 57,
      "outputs": [
        {
          "output_type": "stream",
          "name": "stdout",
          "text": [
            "Error on test set: 2.7814853326438778, a: 2.00917716273673, b:3.8466353148077417\n"
          ]
        }
      ]
    },
    {
      "cell_type": "code",
      "source": [
        "max_x = np.max(X) + 10\n",
        "min_x = np.min(Y) - 10\n",
        "\n",
        "# calculating line values x and y\n",
        "x = np.linspace (min_x, max_x, 100)\n",
        "y = bam + aam * x\n",
        "\n",
        "plt.plot(x, y, color='#58b970', label='Regression Line')\n",
        "plt.scatter(X, Y, c='#ef5423', label='data points')\n",
        "\n",
        "plt.xlabel('X')\n",
        "plt.ylabel('Y')\n",
        "plt.legend()\n",
        "plt.show()"
      ],
      "metadata": {
        "id": "_PpyLUepbB79",
        "colab": {
          "base_uri": "https://localhost:8080/",
          "height": 279
        },
        "outputId": "2c10d0a5-cfd2-42a7-fa27-744f6287caf7"
      },
      "execution_count": 18,
      "outputs": [
        {
          "output_type": "display_data",
          "data": {
            "image/png": "[encoded data removed]",
            "text/plain": [
              "<Figure size 432x288 with 1 Axes>"
            ]
          },
          "metadata": {
            "needs_background": "light"
          }
        }
      ]
    },
    {
      "cell_type": "code",
      "source": [
        ""
      ],
      "metadata": {
        "id": "9GAVKFwwke89"
      },
      "execution_count": 18,
      "outputs": []
    }
  ]
}